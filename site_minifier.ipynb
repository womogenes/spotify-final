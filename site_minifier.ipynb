{
 "cells": [
  {
   "cell_type": "code",
   "execution_count": 22,
   "metadata": {},
   "outputs": [],
   "source": [
    "# Minify JSON files to be served to client\n",
    "# Needed because some of the existing JSON has whitespace to be human-readable\n",
    "\n",
    "import json\n",
    "from tqdm import tqdm"
   ]
  },
  {
   "cell_type": "code",
   "execution_count": 23,
   "metadata": {},
   "outputs": [
    {
     "name": "stdout",
     "output_type": "stream",
     "text": [
      "Minifying 2.5k_id2name.json...\n",
      "Minifying 2.5k_pca_log.json...\n",
      "Minifying 2.5k_artist_freq.json...\n",
      "Minifying 2.5k_artist_data.json...\n"
     ]
    }
   ],
   "source": [
    "files_to_minify = [\"2.5k_id2name.json\",\n",
    "                   \"2.5k_pca_log.json\",\n",
    "                   \"2.5k_artist_freq.json\",\n",
    "                   \"2.5k_artist_data.json\"]\n",
    "\n",
    "for file in files_to_minify:\n",
    "    print(f\"Minifying {file}...\")\n",
    "    with open(f\"./data/{file}\") as fin:\n",
    "        data = json.load(fin)\n",
    "    with open(f\"./site/data/{file}\", \"w\") as fout:\n",
    "        json.dump(data, fout)"
   ]
  }
 ],
 "metadata": {
  "kernelspec": {
   "display_name": "Python 3",
   "language": "python",
   "name": "python3"
  },
  "language_info": {
   "codemirror_mode": {
    "name": "ipython",
    "version": 3
   },
   "file_extension": ".py",
   "mimetype": "text/x-python",
   "name": "python",
   "nbconvert_exporter": "python",
   "pygments_lexer": "ipython3",
   "version": "3.10.5"
  },
  "orig_nbformat": 4
 },
 "nbformat": 4,
 "nbformat_minor": 2
}
