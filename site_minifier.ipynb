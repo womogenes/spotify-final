{
 "cells": [
  {
   "cell_type": "code",
   "execution_count": 12,
   "metadata": {},
   "outputs": [],
   "source": [
    "# Minify JSON files to be served to client\n",
    "# Needed because some of the existing JSON has whitespace to be human-readable\n",
    "\n",
    "import json\n",
    "from tqdm import tqdm"
   ]
  },
  {
   "cell_type": "code",
   "execution_count": 13,
   "metadata": {},
   "outputs": [
    {
     "name": "stdout",
     "output_type": "stream",
     "text": [
      "Minifying 2.5k_id2name.json...\n",
      "Minifying 2.5k_pca_log.json...\n",
      "Minifying 2.5k_artist_freq.json...\n",
      "Minifying 2.5k_artist_data.json...\n"
     ]
    }
   ],
   "source": [
    "files_to_minify = [\"2.5k_id2name.json\",\n",
    "                   \"2.5k_pca_log.json\",\n",
    "                   \"2.5k_artist_freq.json\",\n",
    "                   \"2.5k_artist_data.json\"]\n",
    "\n",
    "for file in files_to_minify:\n",
    "    print(f\"Minifying {file}...\")\n",
    "    with open(f\"./data/{file}\") as fin:\n",
    "        data = json.load(fin)\n",
    "    with open(f\"./site/data/{file}\", \"w\") as fout:\n",
    "        json.dump(data, fout)"
   ]
  },
  {
   "cell_type": "code",
   "execution_count": 4,
   "metadata": {},
   "outputs": [],
   "source": [
    "# Do special stuff with artist data; specifically, short bio to 300 chars\n",
    "from utils import artist_data, name2id\n",
    "import re\n",
    "import textwrap\n",
    "\n",
    "def shorten_bio(bio):\n",
    "    if len(bio) == 0:\n",
    "        return \"\", \"\"\n",
    "    \n",
    "    url = re.findall(\"<a href=\\\"(https:\\/\\/www\\.last\\.fm\\/music\\/.+)\\\">.+<\\/a>\", bio)\n",
    "    if len(url) > 0:\n",
    "        url = url[0]\n",
    "    else:\n",
    "        url = \"\"\n",
    "\n",
    "    bio = textwrap.shorten(bio, width=1000, placeholder=\"...\")\n",
    "    return bio, url"
   ]
  },
  {
   "cell_type": "code",
   "execution_count": 5,
   "metadata": {},
   "outputs": [
    {
     "name": "stderr",
     "output_type": "stream",
     "text": [
      "100%|██████████| 2500/2500 [00:02<00:00, 1074.29it/s]\n"
     ]
    }
   ],
   "source": [
    "with open(\"./data/2.5k_artist_data.json\") as fin:\n",
    "    artist_data = json.load(fin)\n",
    "\n",
    "for artist_id, data in tqdm(artist_data.items()):\n",
    "    data[\"bio\"], data[\"url\"] = shorten_bio(data[\"bio\"])"
   ]
  },
  {
   "cell_type": "code",
   "execution_count": 6,
   "metadata": {},
   "outputs": [],
   "source": [
    "with open(\"./data/2.5k_artist_data.json\", \"w\") as fout:\n",
    "    json.dump(artist_data, fout, indent=2)"
   ]
  }
 ],
 "metadata": {
  "kernelspec": {
   "display_name": "Python 3",
   "language": "python",
   "name": "python3"
  },
  "language_info": {
   "codemirror_mode": {
    "name": "ipython",
    "version": 3
   },
   "file_extension": ".py",
   "mimetype": "text/x-python",
   "name": "python",
   "nbconvert_exporter": "python",
   "pygments_lexer": "ipython3",
   "version": "3.10.5"
  },
  "orig_nbformat": 4
 },
 "nbformat": 4,
 "nbformat_minor": 2
}
