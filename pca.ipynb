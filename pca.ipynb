{
 "cells": [
  {
   "attachments": {},
   "cell_type": "markdown",
   "metadata": {},
   "source": [
    "# Principal Component Analysis of Spotify artists\n",
    "\n",
    "Let's run it on the huge 2500 x 2500 matrix and map each artist to a 2d point!"
   ]
  },
  {
   "cell_type": "code",
   "execution_count": 24,
   "metadata": {},
   "outputs": [],
   "source": [
    "# ~21 sec\n",
    "import json\n",
    "from utils import name2id, id2name, artist_data, top_artists\n",
    "import numpy as np\n",
    "from tqdm import tqdm\n",
    "from sklearn.preprocessing import StandardScaler\n",
    "from sklearn.decomposition import PCA\n",
    "\n",
    "from matplotlib import pyplot as plt\n",
    "plt.rcParams[\"figure.dpi\"] = 150"
   ]
  },
  {
   "cell_type": "code",
   "execution_count": 3,
   "metadata": {},
   "outputs": [],
   "source": [
    "artist_names = [id2name[_id] for _id in top_artists]"
   ]
  },
  {
   "cell_type": "code",
   "execution_count": 4,
   "metadata": {},
   "outputs": [],
   "source": [
    "# ~11 sec\n",
    "with open(\"./data/2.5k_matrix.json\") as fin:\n",
    "    big_matrix = json.load(fin)"
   ]
  },
  {
   "cell_type": "code",
   "execution_count": null,
   "metadata": {},
   "outputs": [],
   "source": [
    "N = 2500\n",
    "corr_matrix = np.zeros((N, N), dtype=int)\n",
    "\n",
    "for i in tqdm(range(N)):\n",
    "    scores = big_matrix[top_artists[i]]\n",
    "\n",
    "    for j in range(N):\n",
    "        other_id = top_artists[j]\n",
    "        if not other_id in scores: continue\n",
    "        corr_matrix[i, j] = np.log(scores[other_id])"
   ]
  },
  {
   "attachments": {},
   "cell_type": "markdown",
   "metadata": {},
   "source": [
    "## Scale features so that mean=0, std=1 for columns and rows"
   ]
  },
  {
   "cell_type": "code",
   "execution_count": 6,
   "metadata": {},
   "outputs": [],
   "source": [
    "def scale_columns(mat):\n",
    "    return StandardScaler().fit_transform(mat)\n",
    "\n",
    "def scale_rows(mat):\n",
    "    return StandardScaler().fit_transform(mat.T).T\n",
    "\n",
    "corr_matrix_scaled = scale_columns(scale_rows(corr_matrix))"
   ]
  },
  {
   "cell_type": "code",
   "execution_count": 11,
   "metadata": {},
   "outputs": [
    {
     "name": "stdout",
     "output_type": "stream",
     "text": [
      "(2500, 2)\n"
     ]
    }
   ],
   "source": [
    "PCA_2d = PCA(n_components=2)\n",
    "artist_2d = PCA_2d.fit_transform(corr_matrix_scaled)\n",
    "print(artist_2d.shape)"
   ]
  },
  {
   "cell_type": "code",
   "execution_count": 18,
   "metadata": {},
   "outputs": [],
   "source": [
    "# Save this\n",
    "with open(\"./data/2.5k_pca_log.json\", \"w\") as fout:\n",
    "    fout.write(\"{\\n\")\n",
    "    for i in range(N):\n",
    "        fout.write(f\"  \\\"{top_artists[i]}\\\": {list(artist_2d[i])}\")\n",
    "        if i < N - 1: fout.write(\",\")\n",
    "        fout.write(\"\\n\")\n",
    "    fout.write(\"}\\n\")"
   ]
  },
  {
   "attachments": {},
   "cell_type": "markdown",
   "metadata": {},
   "source": [
    "## Un-overlap points"
   ]
  },
  {
   "cell_type": "code",
   "execution_count": 118,
   "metadata": {},
   "outputs": [],
   "source": [
    "with open(\"./data/2.5k_pca_log.json\") as fin:\n",
    "    points_dict = json.load(fin)\n",
    "\n",
    "raw_pca_points = np.array(list(points_dict.values()))"
   ]
  },
  {
   "cell_type": "code",
   "execution_count": 129,
   "metadata": {},
   "outputs": [],
   "source": [
    "def plot(p, r=0.3):\n",
    "    fig, ax = plt.subplots(figsize=(2, 2))\n",
    "    ax.set_xlim([min(p[:,0]) - r, max(p[:,1]) + r])\n",
    "    ax.set_ylim([min(p[:,1]) - r, max(p[:,1]) + r])\n",
    "\n",
    "    # https://stackoverflow.com/questions/9215658/plot-a-circle-with-pyplot\n",
    "    circle_patches = [plt.Circle(center, r) for center in p]\n",
    "    for cp in circle_patches:\n",
    "        ax.add_patch(cp)"
   ]
  },
  {
   "cell_type": "code",
   "execution_count": 81,
   "metadata": {},
   "outputs": [
    {
     "name": "stdout",
     "output_type": "stream",
     "text": [
      "[[ 0.32006237  0.20296755]\n",
      " [ 0.93940075  0.94093731]\n",
      " [ 0.11998604  0.53872836]\n",
      " [-0.00980274 -0.5752243 ]\n",
      " [-0.93526597  0.75035921]\n",
      " [ 0.59183552 -0.07404751]\n",
      " [ 0.47628446  0.49173528]\n",
      " [-0.52994188  0.74515875]\n",
      " [-0.79815215 -0.152572  ]\n",
      " [-0.80372274  0.14336764]]\n"
     ]
    }
   ],
   "source": [
    "raw_points = (np.random.rand(10, 2) - 0.5) * 2\n",
    "print(raw_points)"
   ]
  },
  {
   "cell_type": "code",
   "execution_count": 133,
   "metadata": {},
   "outputs": [],
   "source": [
    "# Un-overlap code\n",
    "def dist(a, b):\n",
    "    \"\"\"Squared distance between a and b\"\"\"\n",
    "    return np.sqrt((a[0] - b[0])**2 + (a[1] - b[1])**2)\n",
    "\n",
    "def unoverlap(a, b, r):\n",
    "    d = dist(a, b)\n",
    "    if d >= 2 * r - 1e-3: return False, a, b\n",
    "    mtd = (2*r - d) / 2\n",
    "    u = (b - a) / d\n",
    "    return True, a - u * mtd, b + u * mtd\n",
    "\n",
    "def unoverlap_all(raw_points):    \n",
    "    points = np.copy(raw_points)\n",
    "    n = len(points)\n",
    "\n",
    "    iters = 0\n",
    "    while True:\n",
    "        count = 0\n",
    "        for i in tqdm(range(n)):\n",
    "            for j in range(i + 1, n):\n",
    "                moved, a, b = unoverlap(points[i], points[j], 0.3)\n",
    "                if moved:\n",
    "                    count += 1\n",
    "                    points[i], points[j] = a, b        \n",
    "        \n",
    "        print(f\"Iter {str(iters).rjust(6)}, moved {str(count).rjust(5)}/{n * (n + 1) // 2}\")\n",
    "        iters += 1\n",
    "        \n",
    "        if count == 0: return points"
   ]
  },
  {
   "cell_type": "code",
   "execution_count": 134,
   "metadata": {},
   "outputs": [
    {
     "name": "stderr",
     "output_type": "stream",
     "text": [
      "100%|██████████| 10/10 [00:00<00:00, 141699.46it/s]\n"
     ]
    },
    {
     "name": "stdout",
     "output_type": "stream",
     "text": [
      "Iter      0, moved     8/55\n"
     ]
    },
    {
     "name": "stderr",
     "output_type": "stream",
     "text": [
      "100%|██████████| 10/10 [00:00<00:00, 5046.69it/s]\n"
     ]
    },
    {
     "name": "stdout",
     "output_type": "stream",
     "text": [
      "Iter      1, moved     9/55\n"
     ]
    },
    {
     "name": "stderr",
     "output_type": "stream",
     "text": [
      "100%|██████████| 10/10 [00:00<00:00, 4854.52it/s]\n"
     ]
    },
    {
     "name": "stdout",
     "output_type": "stream",
     "text": [
      "Iter      2, moved     9/55\n"
     ]
    },
    {
     "name": "stderr",
     "output_type": "stream",
     "text": [
      "100%|██████████| 10/10 [00:00<00:00, 10034.22it/s]\n"
     ]
    },
    {
     "name": "stdout",
     "output_type": "stream",
     "text": [
      "Iter      3, moved     7/55\n"
     ]
    },
    {
     "name": "stderr",
     "output_type": "stream",
     "text": [
      "100%|██████████| 10/10 [00:00<00:00, 8933.55it/s]\n"
     ]
    },
    {
     "name": "stdout",
     "output_type": "stream",
     "text": [
      "Iter      4, moved     6/55\n"
     ]
    },
    {
     "name": "stderr",
     "output_type": "stream",
     "text": [
      "100%|██████████| 10/10 [00:00<00:00, 10126.28it/s]\n"
     ]
    },
    {
     "name": "stdout",
     "output_type": "stream",
     "text": [
      "Iter      5, moved     4/55\n"
     ]
    },
    {
     "name": "stderr",
     "output_type": "stream",
     "text": [
      "100%|██████████| 10/10 [00:00<00:00, 10067.94it/s]\n"
     ]
    },
    {
     "name": "stdout",
     "output_type": "stream",
     "text": [
      "Iter      6, moved     4/55\n"
     ]
    },
    {
     "name": "stderr",
     "output_type": "stream",
     "text": [
      "100%|██████████| 10/10 [00:00<?, ?it/s]\n"
     ]
    },
    {
     "name": "stdout",
     "output_type": "stream",
     "text": [
      "Iter      7, moved     2/55\n"
     ]
    },
    {
     "name": "stderr",
     "output_type": "stream",
     "text": [
      "100%|██████████| 10/10 [00:00<?, ?it/s]\n"
     ]
    },
    {
     "name": "stdout",
     "output_type": "stream",
     "text": [
      "Iter      8, moved     0/55\n"
     ]
    },
    {
     "data": {
      "image/png": "[encoded data removed]",
      "text/plain": [
       "<Figure size 300x300 with 1 Axes>"
      ]
     },
     "metadata": {
      "needs_background": "light"
     },
     "output_type": "display_data"
    }
   ],
   "source": [
    "plot(unoverlap_all(raw_points))"
   ]
  },
  {
   "attachments": {},
   "cell_type": "markdown",
   "metadata": {},
   "source": [
    "## Try it on the actual thing"
   ]
  },
  {
   "cell_type": "code",
   "execution_count": 135,
   "metadata": {},
   "outputs": [
    {
     "name": "stderr",
     "output_type": "stream",
     "text": [
      "100%|██████████| 2500/2500 [00:12<00:00, 205.16it/s]\n"
     ]
    },
    {
     "name": "stdout",
     "output_type": "stream",
     "text": [
      "Iter      0, moved   759/3126250\n"
     ]
    },
    {
     "name": "stderr",
     "output_type": "stream",
     "text": [
      "100%|██████████| 2500/2500 [00:13<00:00, 187.40it/s] \n"
     ]
    },
    {
     "name": "stdout",
     "output_type": "stream",
     "text": [
      "Iter      1, moved   395/3126250\n"
     ]
    },
    {
     "name": "stderr",
     "output_type": "stream",
     "text": [
      "100%|██████████| 2500/2500 [00:12<00:00, 201.78it/s] \n"
     ]
    },
    {
     "name": "stdout",
     "output_type": "stream",
     "text": [
      "Iter      2, moved   341/3126250\n"
     ]
    },
    {
     "name": "stderr",
     "output_type": "stream",
     "text": [
      "100%|██████████| 2500/2500 [00:11<00:00, 219.56it/s]\n"
     ]
    },
    {
     "name": "stdout",
     "output_type": "stream",
     "text": [
      "Iter      3, moved   282/3126250\n"
     ]
    },
    {
     "name": "stderr",
     "output_type": "stream",
     "text": [
      "100%|██████████| 2500/2500 [00:13<00:00, 185.67it/s]\n"
     ]
    },
    {
     "name": "stdout",
     "output_type": "stream",
     "text": [
      "Iter      4, moved   218/3126250\n"
     ]
    },
    {
     "name": "stderr",
     "output_type": "stream",
     "text": [
      "100%|██████████| 2500/2500 [00:12<00:00, 203.51it/s]\n"
     ]
    },
    {
     "name": "stdout",
     "output_type": "stream",
     "text": [
      "Iter      5, moved   154/3126250\n"
     ]
    },
    {
     "name": "stderr",
     "output_type": "stream",
     "text": [
      "100%|██████████| 2500/2500 [00:13<00:00, 180.64it/s]\n"
     ]
    },
    {
     "name": "stdout",
     "output_type": "stream",
     "text": [
      "Iter      6, moved    99/3126250\n"
     ]
    },
    {
     "name": "stderr",
     "output_type": "stream",
     "text": [
      "100%|██████████| 2500/2500 [00:16<00:00, 155.01it/s]\n"
     ]
    },
    {
     "name": "stdout",
     "output_type": "stream",
     "text": [
      "Iter      7, moved    75/3126250\n"
     ]
    },
    {
     "name": "stderr",
     "output_type": "stream",
     "text": [
      "100%|██████████| 2500/2500 [00:12<00:00, 192.74it/s]\n"
     ]
    },
    {
     "name": "stdout",
     "output_type": "stream",
     "text": [
      "Iter      8, moved    52/3126250\n"
     ]
    },
    {
     "name": "stderr",
     "output_type": "stream",
     "text": [
      "100%|██████████| 2500/2500 [00:13<00:00, 187.32it/s]\n"
     ]
    },
    {
     "name": "stdout",
     "output_type": "stream",
     "text": [
      "Iter      9, moved    39/3126250\n"
     ]
    },
    {
     "name": "stderr",
     "output_type": "stream",
     "text": [
      "100%|██████████| 2500/2500 [00:22<00:00, 112.40it/s]\n"
     ]
    },
    {
     "name": "stdout",
     "output_type": "stream",
     "text": [
      "Iter     10, moved    20/3126250\n"
     ]
    },
    {
     "name": "stderr",
     "output_type": "stream",
     "text": [
      "100%|██████████| 2500/2500 [00:22<00:00, 110.86it/s]\n"
     ]
    },
    {
     "name": "stdout",
     "output_type": "stream",
     "text": [
      "Iter     11, moved    17/3126250\n"
     ]
    },
    {
     "name": "stderr",
     "output_type": "stream",
     "text": [
      "100%|██████████| 2500/2500 [00:24<00:00, 101.42it/s]\n"
     ]
    },
    {
     "name": "stdout",
     "output_type": "stream",
     "text": [
      "Iter     12, moved    11/3126250\n"
     ]
    },
    {
     "name": "stderr",
     "output_type": "stream",
     "text": [
      "100%|██████████| 2500/2500 [00:20<00:00, 124.03it/s]\n"
     ]
    },
    {
     "name": "stdout",
     "output_type": "stream",
     "text": [
      "Iter     13, moved     5/3126250\n"
     ]
    },
    {
     "name": "stderr",
     "output_type": "stream",
     "text": [
      "100%|██████████| 2500/2500 [00:14<00:00, 171.65it/s]\n"
     ]
    },
    {
     "name": "stdout",
     "output_type": "stream",
     "text": [
      "Iter     14, moved     1/3126250\n"
     ]
    },
    {
     "name": "stderr",
     "output_type": "stream",
     "text": [
      "100%|██████████| 2500/2500 [00:17<00:00, 144.34it/s]"
     ]
    },
    {
     "name": "stdout",
     "output_type": "stream",
     "text": [
      "Iter     15, moved     0/3126250\n"
     ]
    },
    {
     "name": "stderr",
     "output_type": "stream",
     "text": [
      "\n"
     ]
    }
   ],
   "source": [
    "points = unoverlap_all(raw_pca_points)"
   ]
  },
  {
   "cell_type": "code",
   "execution_count": 137,
   "metadata": {},
   "outputs": [],
   "source": [
    "with open(\"./data/2.5k_pca_log_adjusted.json\", \"w\") as fout:\n",
    "    fout.write(\"{\\n\")\n",
    "    for i in range(N):\n",
    "        fout.write(f\"  \\\"{top_artists[i]}\\\": {list(points[i])}\")\n",
    "        if i < N - 1: fout.write(\",\")\n",
    "        fout.write(\"\\n\")\n",
    "    fout.write(\"}\\n\")"
   ]
  }
 ],
 "metadata": {
  "kernelspec": {
   "display_name": "Python 3",
   "language": "python",
   "name": "python3"
  },
  "language_info": {
   "codemirror_mode": {
    "name": "ipython",
    "version": 3
   },
   "file_extension": ".py",
   "mimetype": "text/x-python",
   "name": "python",
   "nbconvert_exporter": "python",
   "pygments_lexer": "ipython3",
   "version": "3.10.5"
  },
  "orig_nbformat": 4
 },
 "nbformat": 4,
 "nbformat_minor": 2
}
