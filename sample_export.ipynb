{
 "cells": [
  {
   "cell_type": "code",
   "execution_count": 11,
   "metadata": {},
   "outputs": [],
   "source": [
    "import json\n",
    "import sys\n",
    "from collections import defaultdict\n",
    "from tqdm import tqdm"
   ]
  },
  {
   "cell_type": "code",
   "execution_count": 108,
   "metadata": {},
   "outputs": [],
   "source": [
    "data_dir = \"./data/spotify_million_playlist_dataset_challenge/challenge_set.json\"\n",
    "with open(data_dir, \"r\", encoding=\"utf8\") as fin:\n",
    "    data = json.load(fin)"
   ]
  },
  {
   "attachments": {},
   "cell_type": "markdown",
   "metadata": {},
   "source": [
    "## Data preprocessing\n",
    "\n",
    "Goal: get a list of 1,000 top artists and store it in an external file"
   ]
  },
  {
   "cell_type": "code",
   "execution_count": 41,
   "metadata": {},
   "outputs": [],
   "source": [
    "def uri2id(uri):\n",
    "    return uri.split(\":\")[-1]\n",
    "\n",
    "id2name = {}\n",
    "name2id = {}"
   ]
  },
  {
   "cell_type": "code",
   "execution_count": 116,
   "metadata": {},
   "outputs": [
    {
     "name": "stderr",
     "output_type": "stream",
     "text": [
      "100%|██████████| 10000/10000 [00:01<00:00, 8725.26it/s]"
     ]
    },
    {
     "name": "stdout",
     "output_type": "stream",
     "text": [
      "14098 unique artists\n"
     ]
    },
    {
     "name": "stderr",
     "output_type": "stream",
     "text": [
      "\n"
     ]
    }
   ],
   "source": [
    "artist_freq_dict = defaultdict(int)\n",
    "for playlist in tqdm(data[\"playlists\"]):\n",
    "    for track in playlist[\"tracks\"]:\n",
    "        artist_id = uri2id(track[\"artist_uri\"])\n",
    "        artist_name = track[\"artist_name\"]\n",
    "\n",
    "        artist_freq_dict[artist_id] += 1\n",
    "        id2name[artist_id] = artist_name\n",
    "        name2id[artist_name] = artist_id\n",
    "\n",
    "print(f\"{len(artist_freq_dict)} unique artists\")"
   ]
  },
  {
   "cell_type": "code",
   "execution_count": 117,
   "metadata": {},
   "outputs": [],
   "source": [
    "with open(\"./data/name_id_maps.json\", \"w\", encoding=\"utf8\") as fout:\n",
    "    json.dump({\n",
    "        \"id2name\": id2name,\n",
    "        \"name2id\": name2id\n",
    "    }, fout, indent=2)"
   ]
  },
  {
   "cell_type": "code",
   "execution_count": 120,
   "metadata": {},
   "outputs": [],
   "source": [
    "N = 1000\n",
    "artist_freq = sorted(artist_freq_dict.items(), key=lambda x: -x[1])[:N]\n",
    "top_artists = set([a[0] for a in artist_freq])"
   ]
  },
  {
   "attachments": {},
   "cell_type": "markdown",
   "metadata": {},
   "source": [
    "## Cross-artist frequencies"
   ]
  },
  {
   "cell_type": "code",
   "execution_count": 121,
   "metadata": {},
   "outputs": [
    {
     "name": "stderr",
     "output_type": "stream",
     "text": [
      "100%|██████████| 10000/10000 [00:08<00:00, 1209.96it/s]\n"
     ]
    }
   ],
   "source": [
    "# For each playlist, compute artist frequencies\n",
    "# Then do some math to assign scores\n",
    "# ~10 seconds\n",
    "\n",
    "matrix = defaultdict(lambda: defaultdict(int))\n",
    "\n",
    "for playlist in tqdm(data[\"playlists\"]):\n",
    "    freqs_dict = defaultdict(int)\n",
    "    for track in playlist[\"tracks\"]:\n",
    "        artist_name = track[\"artist_uri\"].split(\":\")[-1]\n",
    "        if not artist_name in top_artists: continue\n",
    "        freqs_dict[artist_name] += 1\n",
    "\n",
    "    freqs = list(freqs_dict.items())\n",
    "    n = len(freqs)\n",
    "    for i in range(n):\n",
    "        for j in range(i + 1, n):\n",
    "            a, b = freqs[i][0], freqs[j][0]\n",
    "            score = freqs[i][1] * freqs[j][1]\n",
    "            matrix[a][b] += score\n",
    "            matrix[b][a] += score"
   ]
  },
  {
   "attachments": {},
   "cell_type": "markdown",
   "metadata": {},
   "source": [
    "Uh oh, this might take a while for a million playlists...\\\n",
    "Like 1000 seconds &approx; 17 min"
   ]
  },
  {
   "cell_type": "code",
   "execution_count": 123,
   "metadata": {},
   "outputs": [],
   "source": [
    "matrix_obj = {key: dict(value) for key, value in matrix.items()}"
   ]
  },
  {
   "cell_type": "code",
   "execution_count": 125,
   "metadata": {},
   "outputs": [],
   "source": [
    "with open(\"./data/1k_matrix.json\", \"w\") as fout:\n",
    "    json.dump(matrix_obj, fout, indent=2)"
   ]
  }
 ],
 "metadata": {
  "kernelspec": {
   "display_name": "Python 3",
   "language": "python",
   "name": "python3"
  },
  "language_info": {
   "codemirror_mode": {
    "name": "ipython",
    "version": 3
   },
   "file_extension": ".py",
   "mimetype": "text/x-python",
   "name": "python",
   "nbconvert_exporter": "python",
   "pygments_lexer": "ipython3",
   "version": "3.10.5"
  },
  "orig_nbformat": 4
 },
 "nbformat": 4,
 "nbformat_minor": 2
}
