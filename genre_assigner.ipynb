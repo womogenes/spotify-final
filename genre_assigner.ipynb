{
 "cells": [
  {
   "cell_type": "code",
   "execution_count": 32,
   "metadata": {},
   "outputs": [],
   "source": [
    "# Find most popular genres and assign each artist to one of those\n",
    "\n",
    "from utils import artist_data\n",
    "from collections import defaultdict\n",
    "from tqdm import tqdm\n",
    "import json\n",
    "import re\n",
    "from pyperclip import copy"
   ]
  },
  {
   "cell_type": "code",
   "execution_count": 33,
   "metadata": {},
   "outputs": [
    {
     "name": "stdout",
     "output_type": "stream",
     "text": [
      "Top genres: ['rock', 'pop', 'classic rock', 'rap', 'dance pop', 'album rock', 'modern rock', 'indietronica', 'hip hop', 'soft rock', 'contemporary country', 'alternative metal']\n"
     ]
    }
   ],
   "source": [
    "genre_freq_dict = defaultdict(int)\n",
    "for data in artist_data.values():\n",
    "    for g in data[\"genres\"]:\n",
    "        genre_freq_dict[g] += 1\n",
    "\n",
    "genre_freq = sorted(genre_freq_dict.items(), key=lambda x: -x[1])\n",
    "\n",
    "top_genres = [g[0] for g in genre_freq[:12]]\n",
    "print(f\"Top genres: {top_genres}\")\n",
    "\n",
    "with open(\"./data/all_genre_freq.csv\", \"w\") as fout:\n",
    "    fout.write(\"genre,freq\\n\")\n",
    "    for genre, freq in genre_freq:\n",
    "        fout.write(f\"{genre},{freq}\\n\")"
   ]
  },
  {
   "cell_type": "code",
   "execution_count": 34,
   "metadata": {},
   "outputs": [],
   "source": [
    "main_genres = {\n",
    "    \"hip hop\": \"(r\\&b)|(hip hop)\",\n",
    "    \"rap\": \"(?<!t)rap\",\n",
    "    \"edm\": \"(edm)|(house)|(trap)|(tronic)\",\n",
    "    \"indie\": \"(indie)|(singer-songwriter)\",\n",
    "    \"soul\": \"(jazz)|(blues)|(soul)\",\n",
    "    \"rock\": \"rock\",\n",
    "    \"metal\": \"(metal)|(grunge)\",\n",
    "    \"country\": \"country\",\n",
    "    \"christian\": \"christian\",\n",
    "    \"latin\": \"(latin)|(salsa)\",\n",
    "    \"punk\": \"(punk)|(emo)|(pop punk)\",\n",
    "    \"pop\": \"pop\",\n",
    "}\n",
    "\n",
    "def classify_genre(genre):\n",
    "    for label, pattern in main_genres.items():\n",
    "        if re.search(pattern, genre):\n",
    "            yield label"
   ]
  },
  {
   "cell_type": "code",
   "execution_count": 35,
   "metadata": {},
   "outputs": [],
   "source": [
    "# For the spreadsheet\n",
    "res = \"\"\n",
    "for genre, freq in genre_freq:\n",
    "    labels = list(classify_genre(genre))\n",
    "    res += f\"{genre}\\t{freq}\\t{','.join(labels)}\"\n",
    "    if len(labels) > 1:\n",
    "        res += f\"\\tyes\"\n",
    "    res += \"\\n\"\n",
    "\n",
    "copy(res)"
   ]
  },
  {
   "cell_type": "code",
   "execution_count": 36,
   "metadata": {},
   "outputs": [],
   "source": [
    "def classify_genre_list(genre_list):\n",
    "    possible_genres = []\n",
    "    for g in genre_list:\n",
    "        possible_genres.extend(list(classify_genre(g)))\n",
    "    possible_genres = set(possible_genres)\n",
    "\n",
    "    for label in main_genres:\n",
    "        if label in possible_genres:\n",
    "            return label\n",
    "\n",
    "    return \"other\""
   ]
  },
  {
   "cell_type": "code",
   "execution_count": 37,
   "metadata": {},
   "outputs": [
    {
     "data": {
      "text/plain": [
       "'indie'"
      ]
     },
     "execution_count": 37,
     "metadata": {},
     "output_type": "execute_result"
    }
   ],
   "source": [
    "classify_genre_list([\n",
    "      \"emo\",\n",
    "      \"modern rock\",\n",
    "      \"pop punk\",\n",
    "      \"pov: indie\",\n",
    "      \"rock\"\n",
    "    ])"
   ]
  },
  {
   "cell_type": "code",
   "execution_count": 38,
   "metadata": {},
   "outputs": [
    {
     "name": "stderr",
     "output_type": "stream",
     "text": [
      "100%|██████████| 2500/2500 [00:00<00:00, 26670.06it/s]\n"
     ]
    }
   ],
   "source": [
    "# Classify everyone\n",
    "for artist_id, data in tqdm(artist_data.items()):\n",
    "    genres = data[\"genres\"]\n",
    "    data[\"main_genre\"] = classify_genre_list(genres)\n",
    "\n",
    "with open(\"./data/2.5k_artist_data.json\", \"w\") as fout:\n",
    "    json.dump(artist_data, fout, indent=2)"
   ]
  },
  {
   "cell_type": "code",
   "execution_count": null,
   "metadata": {},
   "outputs": [],
   "source": []
  }
 ],
 "metadata": {
  "kernelspec": {
   "display_name": "Python 3",
   "language": "python",
   "name": "python3"
  },
  "language_info": {
   "codemirror_mode": {
    "name": "ipython",
    "version": 3
   },
   "file_extension": ".py",
   "mimetype": "text/x-python",
   "name": "python",
   "nbconvert_exporter": "python",
   "pygments_lexer": "ipython3",
   "version": "3.10.5"
  },
  "orig_nbformat": 4
 },
 "nbformat": 4,
 "nbformat_minor": 2
}
