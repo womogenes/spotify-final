{
 "cells": [
  {
   "cell_type": "code",
   "execution_count": 1,
   "metadata": {},
   "outputs": [],
   "source": [
    "# Find most popular genres and assign each artist to one of those\n",
    "\n",
    "from utils import artist_data\n",
    "from collections import defaultdict\n",
    "from tqdm import tqdm\n",
    "import json\n",
    "import re\n",
    "from pyperclip import copy\n",
    "import pandas as pd"
   ]
  },
  {
   "cell_type": "code",
   "execution_count": 2,
   "metadata": {},
   "outputs": [
    {
     "name": "stdout",
     "output_type": "stream",
     "text": [
      "Top genres: ['rock', 'pop', 'classic rock', 'rap', 'dance pop', 'album rock', 'modern rock', 'indietronica', 'hip hop', 'soft rock', 'contemporary country', 'alternative metal']\n"
     ]
    }
   ],
   "source": [
    "genre_freq_dict = defaultdict(int)\n",
    "for data in artist_data.values():\n",
    "    for g in data[\"genres\"]:\n",
    "        genre_freq_dict[g] += 1\n",
    "\n",
    "genre_freq = sorted(genre_freq_dict.items(), key=lambda x: -x[1])\n",
    "all_genres = [g[0] for g in genre_freq]\n",
    "\n",
    "top_genres = all_genres[:12]\n",
    "print(f\"Top genres: {top_genres}\")\n",
    "\n",
    "with open(\"./data/all_genre_freq.csv\", \"w\") as fout:\n",
    "    fout.write(\"genre,freq\\n\")\n",
    "    for genre, freq in genre_freq:\n",
    "        fout.write(f\"{genre},{freq}\\n\")"
   ]
  },
  {
   "cell_type": "code",
   "execution_count": 3,
   "metadata": {},
   "outputs": [
    {
     "name": "stdout",
     "output_type": "stream",
     "text": [
      "{'indietronica': 'indie', 'indie rock': 'indie', 'mellow gold': 'rock', 'pop rap': 'pop', 'pop punk': 'punk', 'pop rock': 'pop', 'christian alternative rock': 'christian', 'neon pop punk': 'punk', 'indie poptimism': 'indie', 'country rock': 'country', 'latin pop': 'latin', 'modern country rock': 'country', 'blues rock': 'soul', 'musica mexicana': 'latin', 'brostep': 'edm', 'folk': 'country', 'indie pop rap': 'indie', 'new americana': 'indie', 'disco': 'edm', 'funk': 'soul', 'indie soul': 'soul', 'indie pop': 'indie', 'trap latino': 'latin', 'rap metal': 'metal', 'latin hip hop': 'latin', 'pixie': 'punk', 'rap rock': 'rock', 'modern blues rock': 'soul', 'socal pop punk': 'punk', 'pop r&b': 'soul', 'pop soul': 'soul', 'pop emo': 'punk', 'christian hip hop': 'christian', 'latin arena pop': 'latin', 'pop edm': 'edm', 'christian indie': 'christian', 'latin rock': 'latin', 'country rap': 'country', 'shoegaze': 'indie', 'progressive bluegrass': 'soul', 'swedish indie pop': 'indie', 'christian rock': 'christian', 'classic country pop': 'country', 'jazztronica': 'jazz', 'indie garage rock': 'indie', 'country pop': 'country', 'jazz pop': 'jazz', 'punk blues': 'punk', 'electronic rock': 'rock', 'trap soul': 'soul', 'indie electropop': 'indie', 'edmonton indie': 'indie', 'jazz rap': 'soul', 'canadian pop punk': 'punk', 'texas latin rap': 'latin', 'texas pop punk': 'punk', 'christian punk': 'christian', 'christian metal': 'christian', 'christian metalcore': 'christian', 'bluegrass': 'soul', 'latin viral pop': 'latin', 'rap latina': 'latin', 'indie hip hop': 'indie', 'british indie rock': 'rock', 'uk pop punk': 'punk', 'indie rockism': 'indie', 'french indie pop': 'indie', 'indie psych-pop': 'indie', 'latin jazz': 'soul', 'chicago pop punk': 'punk', 'christian trap': 'christian', 'grand rapids indie': 'indie'}\n",
      "72 overrides\n"
     ]
    }
   ],
   "source": [
    "df = pd.read_csv(\"./data/genre brainstorm - all.csv\").reset_index()\n",
    "overrides = {}\n",
    "for genre, reviewed in zip(df[\"genre\"], df[\"reviewed\"]):\n",
    "    if not pd.isna(reviewed):\n",
    "        overrides[genre] = reviewed\n",
    "\n",
    "print(overrides)\n",
    "print(f\"{len(overrides)} overrides\")"
   ]
  },
  {
   "cell_type": "code",
   "execution_count": 4,
   "metadata": {},
   "outputs": [],
   "source": [
    "main_genres = {\n",
    "    \"hip hop\": \"(hip hop)\",\n",
    "    \"rap\": \"(?<!t)rap\",\n",
    "    \"edm\": \"(edm)|(house)|(trap)|(tronic)\",\n",
    "    \"indie\": \"(indie)\",\n",
    "    \"soul\": \"(r\\&b)|(soul)\",\n",
    "    \"jazz\": \"(blues)|(jazz)\",\n",
    "    \"rock\": \"(rock)|(singer-songwriter)\",\n",
    "    \"metal\": \"(metal)|(grunge)\",\n",
    "    \"country\": \"country\",\n",
    "    \"pop\": \"pop\",\n",
    "}\n",
    "\n",
    "def classify_genre(genre):\n",
    "    if genre in overrides:\n",
    "        return overrides[genre]\n",
    "    \n",
    "    for label, pattern in main_genres.items():\n",
    "        if re.search(pattern, genre):\n",
    "            return label\n",
    "\n",
    "    return \"other\""
   ]
  },
  {
   "cell_type": "code",
   "execution_count": 5,
   "metadata": {},
   "outputs": [],
   "source": [
    "# Export for the site\n",
    "with open(\"./data/genre_map.json\", \"w\") as fout:\n",
    "    json.dump({ g: classify_genre(g) for g in all_genres }, fout, indent=2)"
   ]
  },
  {
   "cell_type": "code",
   "execution_count": 52,
   "metadata": {},
   "outputs": [],
   "source": [
    "def classify_genre_list(genre_list):\n",
    "    possible_genres = set([classify_genre(g) for g in genre_list])\n",
    "\n",
    "    for label in main_genres:\n",
    "        if label in possible_genres:\n",
    "            return label\n",
    "\n",
    "    return \"other\""
   ]
  },
  {
   "cell_type": "code",
   "execution_count": 33,
   "metadata": {},
   "outputs": [
    {
     "data": {
      "text/plain": [
       "'indie'"
      ]
     },
     "execution_count": 33,
     "metadata": {},
     "output_type": "execute_result"
    }
   ],
   "source": [
    "classify_genre_list([\n",
    "      \"emo\",\n",
    "      \"modern rock\",\n",
    "      \"pop punk\",\n",
    "      \"pov: indie\",\n",
    "      \"rock\"\n",
    "    ])"
   ]
  },
  {
   "cell_type": "code",
   "execution_count": 38,
   "metadata": {},
   "outputs": [
    {
     "name": "stderr",
     "output_type": "stream",
     "text": [
      "100%|██████████| 2500/2500 [00:00<00:00, 26670.06it/s]\n"
     ]
    }
   ],
   "source": [
    "# Classify everyone\n",
    "for artist_id, data in tqdm(artist_data.items()):\n",
    "    genres = data[\"genres\"]\n",
    "    data[\"main_genre\"] = classify_genre_list(genres)\n",
    "\n",
    "with open(\"./data/2.5k_artist_data.json\", \"w\") as fout:\n",
    "    json.dump(artist_data, fout, indent=2)"
   ]
  },
  {
   "attachments": {},
   "cell_type": "markdown",
   "metadata": {},
   "source": [
    "For every raw sub-genre, put it into a big genre. Then sort the raw sub-genre lists based on frequency."
   ]
  },
  {
   "cell_type": "code",
   "execution_count": 53,
   "metadata": {},
   "outputs": [],
   "source": [
    "big_genre_lists = {g: [] for g in main_genres}\n",
    "big_genre_lists[\"other\"] = []\n",
    "\n",
    "for raw_genre in genre_freq:\n",
    "    big_genre = classify_genre(raw_genre[0])\n",
    "    if big_genre == None:\n",
    "        print(raw_genre)\n",
    "    big_genre_lists[big_genre].append(raw_genre)"
   ]
  },
  {
   "cell_type": "code",
   "execution_count": 58,
   "metadata": {},
   "outputs": [],
   "source": [
    "res = \"\"\n",
    "\n",
    "for big_genre in big_genre_lists:\n",
    "    big_genre_lists[big_genre].sort(key = lambda x: -x[1])\n",
    "    res += f\"{big_genre}\\t\"\n",
    "    res += \"\\t\".join(map(lambda x: f\"{x[0]}, {x[1]}\", big_genre_lists[big_genre])) + \"\\n\"\n",
    "\n",
    "copy(res)"
   ]
  }
 ],
 "metadata": {
  "kernelspec": {
   "display_name": "Python 3",
   "language": "python",
   "name": "python3"
  },
  "language_info": {
   "codemirror_mode": {
    "name": "ipython",
    "version": 3
   },
   "file_extension": ".py",
   "mimetype": "text/x-python",
   "name": "python",
   "nbconvert_exporter": "python",
   "pygments_lexer": "ipython3",
   "version": "3.10.5"
  },
  "orig_nbformat": 4
 },
 "nbformat": 4,
 "nbformat_minor": 2
}
