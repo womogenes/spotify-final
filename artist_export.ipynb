{
 "cells": [
  {
   "attachments": {},
   "cell_type": "markdown",
   "metadata": {},
   "source": [
    "## Get all artist info\n",
    "\n",
    "Using Spotify API: https://developer.spotify.com/documentation/web-api/reference/get-an-artist"
   ]
  },
  {
   "cell_type": "code",
   "execution_count": 35,
   "metadata": {},
   "outputs": [
    {
     "data": {
      "text/plain": [
       "True"
      ]
     },
     "execution_count": 35,
     "metadata": {},
     "output_type": "execute_result"
    }
   ],
   "source": [
    "import requests\n",
    "import json\n",
    "import os\n",
    "from dotenv import load_dotenv\n",
    "import base64\n",
    "from tqdm import tqdm\n",
    "\n",
    "load_dotenv()"
   ]
  },
  {
   "cell_type": "code",
   "execution_count": 29,
   "metadata": {},
   "outputs": [],
   "source": [
    "# Set stuff up with Spotify API\n",
    "# https://developer.spotify.com/documentation/web-api/tutorials/client-credentials-flow\n",
    "\n",
    "SPOTIFY_CLIENT_ID = os.environ[\"SPOTIFY_CLIENT_ID\"]\n",
    "SPOTIFY_CLIENT_SECRET = os.environ[\"SPOTIFY_CLIENT_SECRET\"]\n",
    "\n",
    "endpoint = \"https://accounts.spotify.com/api/token\"\n",
    "\n",
    "headers = {\n",
    "    \"Content-Type\": \"application/x-www-form-urlencoded\"\n",
    "}\n",
    "data = {\n",
    "    \"grant_type\": \"client_credentials\",\n",
    "    \"client_id\": SPOTIFY_CLIENT_ID,\n",
    "    \"client_secret\": SPOTIFY_CLIENT_SECRET\n",
    "}\n",
    "res = requests.post(endpoint, data=data, headers=headers)\n",
    "API_TOKEN = res.json()[\"access_token\"]"
   ]
  },
  {
   "attachments": {},
   "cell_type": "markdown",
   "metadata": {},
   "source": [
    "## Make 1k requests"
   ]
  },
  {
   "cell_type": "code",
   "execution_count": 36,
   "metadata": {},
   "outputs": [],
   "source": [
    "endpoint = \"https://api.spotify.com/v1/artists\"\n",
    "\n",
    "def get_artist_data(id):\n",
    "    headers = {\n",
    "        \"Authorization\": f\"Bearer {API_TOKEN}\"\n",
    "    }\n",
    "    res = requests.get(f\"{endpoint}/{id}\", headers=headers)\n",
    "    return res.json()"
   ]
  },
  {
   "cell_type": "code",
   "execution_count": 60,
   "metadata": {},
   "outputs": [],
   "source": [
    "with open(\"./data/1m_artist_freq.json\", encoding=\"utf8\") as fin:\n",
    "    artist_freq_dict = json.load(fin)\n",
    "\n",
    "with open(\"./data/name_id_maps.json\", encoding=\"utf8\") as fin:\n",
    "    data = json.load(fin)\n",
    "    name2id = data[\"name2id\"]\n",
    "    id2name = data[\"id2name\"]\n",
    "\n",
    "N = 2500\n",
    "artist_freq = sorted(artist_freq_dict.items(), key=lambda x: -x[1])\n",
    "artist_ids = [a[0] for a in artist_freq][:N]"
   ]
  },
  {
   "cell_type": "code",
   "execution_count": 61,
   "metadata": {},
   "outputs": [
    {
     "name": "stderr",
     "output_type": "stream",
     "text": [
      "100%|██████████| 2500/2500 [04:25<00:00,  9.40it/s]  \n"
     ]
    }
   ],
   "source": [
    "# Hopefully Spotify doesn't ratelimit too harshly\n",
    "# https://developer.spotify.com/documentation/web-api/concepts/rate-limits\n",
    "# Should take ~5 min\n",
    "\n",
    "with open(\"./data/1m_artist_data.json\", encoding=\"utf8\") as fin:\n",
    "    # TODO: Make this robust to if file doesn't exist\n",
    "    artist_data = json.load(fin)\n",
    "\n",
    "for artist_id in tqdm(artist_ids):\n",
    "    if artist_id in artist_data: continue\n",
    "    artist_data[artist_id] = get_artist_data(artist_id)"
   ]
  },
  {
   "cell_type": "code",
   "execution_count": 62,
   "metadata": {},
   "outputs": [],
   "source": [
    "with open(\"./data/1m_artist_data.json\", \"w\", encoding=\"utf8\") as fout:\n",
    "    json.dump(artist_data, fout, indent=2)"
   ]
  }
 ],
 "metadata": {
  "kernelspec": {
   "display_name": "Python 3",
   "language": "python",
   "name": "python3"
  },
  "language_info": {
   "codemirror_mode": {
    "name": "ipython",
    "version": 3
   },
   "file_extension": ".py",
   "mimetype": "text/x-python",
   "name": "python",
   "nbconvert_exporter": "python",
   "pygments_lexer": "ipython3",
   "version": "3.10.5"
  },
  "orig_nbformat": 4
 },
 "nbformat": 4,
 "nbformat_minor": 2
}
