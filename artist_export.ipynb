{
 "cells": [
  {
   "attachments": {},
   "cell_type": "markdown",
   "metadata": {},
   "source": [
    "## Get all artist info\n",
    "\n",
    "Using Spotify API: https://developer.spotify.com/documentation/web-api/reference/get-an-artist"
   ]
  },
  {
   "cell_type": "code",
   "execution_count": 1,
   "metadata": {},
   "outputs": [
    {
     "data": {
      "text/plain": [
       "True"
      ]
     },
     "execution_count": 1,
     "metadata": {},
     "output_type": "execute_result"
    }
   ],
   "source": [
    "import requests\n",
    "import json\n",
    "import os\n",
    "from dotenv import load_dotenv\n",
    "from tqdm import tqdm\n",
    "import re\n",
    "import html\n",
    "\n",
    "load_dotenv()"
   ]
  },
  {
   "cell_type": "code",
   "execution_count": 4,
   "metadata": {},
   "outputs": [],
   "source": [
    "# Set stuff up with Spotify API\n",
    "# https://developer.spotify.com/documentation/web-api/tutorials/client-credentials-flow\n",
    "\n",
    "SPOTIFY_CLIENT_ID = os.environ[\"SPOTIFY_CLIENT_ID\"]\n",
    "SPOTIFY_CLIENT_SECRET = os.environ[\"SPOTIFY_CLIENT_SECRET\"]\n",
    "\n",
    "endpoint = \"https://accounts.spotify.com/api/token\"\n",
    "\n",
    "headers = {\n",
    "    \"Content-Type\": \"application/x-www-form-urlencoded\"\n",
    "}\n",
    "data = {\n",
    "    \"grant_type\": \"client_credentials\",\n",
    "    \"client_id\": SPOTIFY_CLIENT_ID,\n",
    "    \"client_secret\": SPOTIFY_CLIENT_SECRET\n",
    "}\n",
    "res = requests.post(endpoint, data=data, headers=headers)\n",
    "API_TOKEN = res.json()[\"access_token\"]"
   ]
  },
  {
   "attachments": {},
   "cell_type": "markdown",
   "metadata": {},
   "source": [
    "## Make 1k requests"
   ]
  },
  {
   "cell_type": "code",
   "execution_count": 36,
   "metadata": {},
   "outputs": [],
   "source": [
    "endpoint = \"https://api.spotify.com/v1/artists\"\n",
    "\n",
    "def get_artist_data(id):\n",
    "    headers = {\n",
    "        \"Authorization\": f\"Bearer {API_TOKEN}\"\n",
    "    }\n",
    "    res = requests.get(f\"{endpoint}/{id}\", headers=headers)\n",
    "    return res.json()"
   ]
  },
  {
   "cell_type": "code",
   "execution_count": 2,
   "metadata": {},
   "outputs": [],
   "source": [
    "from utils import name2id, id2name, artist_freq_dict, top_artists"
   ]
  },
  {
   "cell_type": "code",
   "execution_count": 5,
   "metadata": {},
   "outputs": [
    {
     "name": "stderr",
     "output_type": "stream",
     "text": [
      "100%|██████████| 2500/2500 [00:00<00:00, 1668644.18it/s]\n"
     ]
    }
   ],
   "source": [
    "# Hopefully Spotify doesn't ratelimit too harshly\n",
    "# https://developer.spotify.com/documentation/web-api/concepts/rate-limits\n",
    "# Should take ~5 min\n",
    "\n",
    "with open(\"./data/2.5k_artist_data.json\", encoding=\"utf8\") as fin:\n",
    "    # TODO: Make this robust to if file doesn't exist\n",
    "    artist_data = json.load(fin)\n",
    "\n",
    "for artist_id in tqdm(top_artists):\n",
    "    if artist_id in artist_data: continue\n",
    "    artist_data[artist_id] = get_artist_data(artist_id)"
   ]
  },
  {
   "cell_type": "code",
   "execution_count": 62,
   "metadata": {},
   "outputs": [],
   "source": [
    "with open(\"./data/2.5k_artist_data.json\", \"w\", encoding=\"utf8\") as fout:\n",
    "    json.dump(artist_data, fout, indent=2)"
   ]
  },
  {
   "attachments": {},
   "cell_type": "markdown",
   "metadata": {},
   "source": [
    "## Retrieve stuff from last.fm\n",
    "\n",
    "Particularly, artist bios."
   ]
  },
  {
   "cell_type": "code",
   "execution_count": 6,
   "metadata": {},
   "outputs": [],
   "source": [
    "endpoint = \"https://ws.audioscrobbler.com/2.0\"\n",
    "\n",
    "def get_artist_bio(id):\n",
    "    artist_name = id2name[id]\n",
    "    params= {\n",
    "        \"method\": \"artist.getinfo\",\n",
    "        \"artist\": artist_name,\n",
    "        \"api_key\": os.environ[\"LASTFM_API_KEY\"]\n",
    "    }\n",
    "    res = requests.get(endpoint, params=params)\n",
    "\n",
    "    search = re.search(\n",
    "        \"<summary>(.*)<\\/summary>\",\n",
    "        res.content.decode()\n",
    "    )\n",
    "    if search == None:\n",
    "        return \"\"\n",
    "\n",
    "    bio = html.unescape(search[1])\n",
    "    return bio"
   ]
  },
  {
   "cell_type": "code",
   "execution_count": 7,
   "metadata": {},
   "outputs": [
    {
     "name": "stderr",
     "output_type": "stream",
     "text": [
      "100%|██████████| 2500/2500 [08:39<00:00,  4.81it/s]\n"
     ]
    }
   ],
   "source": [
    "for artist_id in tqdm(top_artists):\n",
    "    bio = get_artist_bio(artist_id)\n",
    "    artist_data[artist_id][\"bio\"] = bio"
   ]
  },
  {
   "cell_type": "code",
   "execution_count": 8,
   "metadata": {},
   "outputs": [],
   "source": [
    "with open(\"./data/2.5k_artist_data.json\", \"w\", encoding=\"utf8\") as fout:\n",
    "    json.dump(artist_data, fout, indent=2)"
   ]
  },
  {
   "cell_type": "code",
   "execution_count": null,
   "metadata": {},
   "outputs": [],
   "source": []
  }
 ],
 "metadata": {
  "kernelspec": {
   "display_name": "Python 3",
   "language": "python",
   "name": "python3"
  },
  "language_info": {
   "codemirror_mode": {
    "name": "ipython",
    "version": 3
   },
   "file_extension": ".py",
   "mimetype": "text/x-python",
   "name": "python",
   "nbconvert_exporter": "python",
   "pygments_lexer": "ipython3",
   "version": "3.10.5"
  },
  "orig_nbformat": 4
 },
 "nbformat": 4,
 "nbformat_minor": 2
}
