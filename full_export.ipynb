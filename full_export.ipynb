{
 "cells": [
  {
   "attachments": {},
   "cell_type": "markdown",
   "metadata": {},
   "source": [
    "# Spotify MPD full export\n",
    "\n",
    "Create the matrix for 1,000 artists based on all 1M playlists. A couple JSON files will be created:\n",
    "1. Name to ID and ID to name lookup\n",
    "2. Artist interaction matrix\n",
    "3. \"Artist popularity\" (how many times they appear in total)"
   ]
  },
  {
   "cell_type": "code",
   "execution_count": 3,
   "metadata": {},
   "outputs": [],
   "source": [
    "import json\n",
    "import os\n",
    "from collections import defaultdict\n",
    "from tqdm import tqdm"
   ]
  },
  {
   "cell_type": "code",
   "execution_count": 11,
   "metadata": {},
   "outputs": [],
   "source": [
    "all_slices = os.listdir(\"./data/spotify_million_playlist_dataset/data\")\n",
    "\n",
    "def all_playlists(progress=True):\n",
    "    iterator = tqdm(all_slices) if progress else all_slices\n",
    "\n",
    "    for slice in iterator:\n",
    "        with open(f\"./data/spotify_million_playlist_dataset/data/{slice}\", encoding=\"utf8\") as fin:\n",
    "            for playlist in json.load(fin)[\"playlists\"]:\n",
    "                yield playlist"
   ]
  },
  {
   "attachments": {},
   "cell_type": "markdown",
   "metadata": {},
   "source": [
    "## Generate artist frequencies and lookups"
   ]
  },
  {
   "cell_type": "code",
   "execution_count": 9,
   "metadata": {},
   "outputs": [],
   "source": [
    "def uri2id(uri):\n",
    "    return uri.split(\":\")[-1]\n",
    "\n",
    "id2name = {}\n",
    "name2id = {}"
   ]
  },
  {
   "cell_type": "code",
   "execution_count": 15,
   "metadata": {},
   "outputs": [
    {
     "name": "stderr",
     "output_type": "stream",
     "text": [
      "100%|██████████| 1000/1000 [07:51<00:00,  2.12it/s]"
     ]
    },
    {
     "name": "stdout",
     "output_type": "stream",
     "text": [
      "295860 unique artists\n"
     ]
    },
    {
     "name": "stderr",
     "output_type": "stream",
     "text": [
      "\n"
     ]
    }
   ],
   "source": [
    "artist_freq_dict = defaultdict(int)\n",
    "\n",
    "for playlist in all_playlists():\n",
    "    for track in playlist[\"tracks\"]:\n",
    "        artist_id = uri2id(track[\"artist_uri\"])\n",
    "        artist_name = track[\"artist_name\"]\n",
    "\n",
    "        artist_freq_dict[artist_id] += 1\n",
    "        id2name[artist_id] = artist_name\n",
    "        name2id[artist_name] = artist_id\n",
    "\n",
    "print(f\"{len(artist_freq_dict)} unique artists\")"
   ]
  },
  {
   "cell_type": "code",
   "execution_count": 37,
   "metadata": {},
   "outputs": [],
   "source": [
    "# THIS IS NOW REDUNDANT\n",
    "# The matrix will compute everyone just for the hell of it\n",
    "N = 2500\n",
    "artist_freq = sorted(artist_freq_dict.items(), key=lambda x: -x[1])[:N]\n",
    "top_artists = set([a[0] for a in artist_freq])"
   ]
  },
  {
   "cell_type": "code",
   "execution_count": 16,
   "metadata": {},
   "outputs": [],
   "source": [
    "with open(\"./data/name_id_maps.json\", \"w\", encoding=\"utf8\") as fout:\n",
    "    json.dump({\n",
    "        \"id2name\": id2name,\n",
    "        \"name2id\": name2id\n",
    "    }, fout, indent=2)"
   ]
  },
  {
   "cell_type": "code",
   "execution_count": 29,
   "metadata": {},
   "outputs": [],
   "source": [
    "with open(\"./data/1m_artist_freq.json\", \"w\", encoding=\"utf8\") as fout:\n",
    "    json.dump(artist_freq_dict, fout, indent=2)"
   ]
  },
  {
   "attachments": {},
   "cell_type": "markdown",
   "metadata": {},
   "source": [
    "## Cross-artist frequencies"
   ]
  },
  {
   "cell_type": "code",
   "execution_count": 38,
   "metadata": {},
   "outputs": [
    {
     "name": "stderr",
     "output_type": "stream",
     "text": [
      "100%|██████████| 1000/1000 [18:56<00:00,  1.14s/it]\n"
     ]
    }
   ],
   "source": [
    "# For each playlist, compute artist frequencies\n",
    "# Then do some math to assign scores\n",
    "\n",
    "matrix = defaultdict(lambda: defaultdict(int))\n",
    "\n",
    "for playlist in all_playlists():\n",
    "    freqs_dict = defaultdict(int)\n",
    "    for track in playlist[\"tracks\"]:\n",
    "        artist_name = track[\"artist_uri\"].split(\":\")[-1]\n",
    "        if not artist_name in top_artists: continue\n",
    "        freqs_dict[artist_name] += 1\n",
    "\n",
    "    freqs = list(freqs_dict.items())\n",
    "    n = len(freqs)\n",
    "    for i in range(n):\n",
    "        for j in range(i + 1, n):\n",
    "            a, b = freqs[i][0], freqs[j][0]\n",
    "            score = freqs[i][1] * freqs[j][1]\n",
    "            matrix[a][b] += score\n",
    "            matrix[b][a] += score"
   ]
  },
  {
   "cell_type": "code",
   "execution_count": 39,
   "metadata": {},
   "outputs": [],
   "source": [
    "matrix_obj = {key: dict(value) for key, value in matrix.items()}"
   ]
  },
  {
   "cell_type": "code",
   "execution_count": 40,
   "metadata": {},
   "outputs": [],
   "source": [
    "with open(\"./data/2.5k_matrix.json\", \"w\") as fout:\n",
    "    json.dump(matrix_obj, fout, indent=2)"
   ]
  }
 ],
 "metadata": {
  "kernelspec": {
   "display_name": "Python 3",
   "language": "python",
   "name": "python3"
  },
  "language_info": {
   "codemirror_mode": {
    "name": "ipython",
    "version": 3
   },
   "file_extension": ".py",
   "mimetype": "text/x-python",
   "name": "python",
   "nbconvert_exporter": "python",
   "pygments_lexer": "ipython3",
   "version": "3.10.5"
  },
  "orig_nbformat": 4
 },
 "nbformat": 4,
 "nbformat_minor": 2
}
